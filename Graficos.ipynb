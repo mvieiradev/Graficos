{
  "nbformat": 4,
  "nbformat_minor": 0,
  "metadata": {
    "colab": {
      "provenance": [],
      "authorship_tag": "ABX9TyOQb6Tj7GCEaeNscPvCPSe7",
      "include_colab_link": true
    },
    "kernelspec": {
      "name": "python3",
      "display_name": "Python 3"
    },
    "language_info": {
      "name": "python"
    }
  },
  "cells": [
    {
      "cell_type": "markdown",
      "metadata": {
        "id": "view-in-github",
        "colab_type": "text"
      },
      "source": [
        "<a href=\"https://colab.research.google.com/github/mvieiradev/Graficos/blob/main/Graficos.ipynb\" target=\"_parent\"><img src=\"https://colab.research.google.com/assets/colab-badge.svg\" alt=\"Open In Colab\"/></a>"
      ]
    },
    {
      "cell_type": "code",
      "source": [
        "!pip install plotly"
      ],
      "metadata": {
        "colab": {
          "base_uri": "https://localhost:8080/"
        },
        "id": "PHB8AjGOheAE",
        "outputId": "8e18eeab-e8e2-4617-93c1-7cb0b3e81d5d"
      },
      "execution_count": 2,
      "outputs": [
        {
          "output_type": "stream",
          "name": "stdout",
          "text": [
            "Looking in indexes: https://pypi.org/simple, https://us-python.pkg.dev/colab-wheels/public/simple/\n",
            "Requirement already satisfied: plotly in /usr/local/lib/python3.8/dist-packages (5.5.0)\n",
            "Requirement already satisfied: tenacity>=6.2.0 in /usr/local/lib/python3.8/dist-packages (from plotly) (8.2.2)\n",
            "Requirement already satisfied: six in /usr/local/lib/python3.8/dist-packages (from plotly) (1.15.0)\n"
          ]
        }
      ]
    },
    {
      "cell_type": "code",
      "source": [
        "import plotly\n"
      ],
      "metadata": {
        "id": "wmyFzhgJhewI"
      },
      "execution_count": 3,
      "outputs": []
    },
    {
      "cell_type": "code",
      "source": [
        "print(plotly.__version__)"
      ],
      "metadata": {
        "id": "r0lXpNUthwms"
      },
      "execution_count": null,
      "outputs": []
    },
    {
      "cell_type": "code",
      "source": [
        "import plotly.express as px"
      ],
      "metadata": {
        "id": "AwiEgt0jh2Xu"
      },
      "execution_count": 5,
      "outputs": []
    },
    {
      "cell_type": "code",
      "source": [
        "from plotly.data import tips\n"
      ],
      "metadata": {
        "id": "4Xhu04xZiE-E"
      },
      "execution_count": 6,
      "outputs": []
    },
    {
      "cell_type": "code",
      "source": [
        "df= tips()"
      ],
      "metadata": {
        "id": "qPmyC5ZViPNr"
      },
      "execution_count": 7,
      "outputs": []
    },
    {
      "cell_type": "code",
      "source": [
        "df.head()"
      ],
      "metadata": {
        "id": "yZ-ocmC3iVMa"
      },
      "execution_count": null,
      "outputs": []
    },
    {
      "cell_type": "markdown",
      "source": [
        "---------------------------------------"
      ],
      "metadata": {
        "id": "NzhBG8gqiiAo"
      }
    },
    {
      "cell_type": "code",
      "source": [
        "fig=px.scatter(df,x='total_bill',y='tip', title='Tips Per Bill')\n",
        "fig.update_traces(textposition='middle left', marker_size=10)\n",
        "fig.show()"
      ],
      "metadata": {
        "id": "ZnTiGaAQilt3"
      },
      "execution_count": null,
      "outputs": []
    },
    {
      "cell_type": "markdown",
      "source": [
        "________________________________________________________________________________\n"
      ],
      "metadata": {
        "id": "9tAHbf5okefl"
      }
    },
    {
      "cell_type": "code",
      "source": [
        "px.histogram(df, 'tip' , title='histogram of Tip Totals').show()"
      ],
      "metadata": {
        "id": "mU_H2vHWkjGN"
      },
      "execution_count": null,
      "outputs": []
    },
    {
      "cell_type": "markdown",
      "source": [
        "--------------------------------------------------------------------------------"
      ],
      "metadata": {
        "id": "Gkdxz240leB8"
      }
    },
    {
      "cell_type": "code",
      "source": [
        "px.box(df, x='day', y='tip', category_orders={'day': ['Thur', 'Fri', 'Sat', 'Sun']}).show()"
      ],
      "metadata": {
        "id": "Z5oP8PhtlhAM"
      },
      "execution_count": null,
      "outputs": []
    },
    {
      "cell_type": "markdown",
      "source": [
        "--------------------------------------------------------------------------------"
      ],
      "metadata": {
        "id": "qNsYJ08lmfJX"
      }
    }
  ]
}